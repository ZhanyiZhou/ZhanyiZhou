{
 "cells": [
  {
   "cell_type": "markdown",
   "id": "79478c39",
   "metadata": {},
   "source": [
    "# Pomotroid: The Pomodoro Timer Project"
   ]
  },
  {
   "cell_type": "markdown",
   "id": "eae794df",
   "metadata": {},
   "source": [
    "![](https://github.com/Splode/pomotroid/raw/master/.github/images/pomotroid_themes-preview--914x219.png)"
   ]
  },
  {
   "cell_type": "markdown",
   "id": "f6293612",
   "metadata": {},
   "source": [
    "**Source:** [Pomotroid Github Page](https://github.com/topics/pomodoro-timer)"
   ]
  },
  {
   "cell_type": "markdown",
   "id": "b27a0bbe",
   "metadata": {},
   "source": [
    "## Table of Content"
   ]
  },
  {
   "cell_type": "markdown",
   "id": "e0b2db6b",
   "metadata": {},
   "source": [
    "* [1. Features](#bullet1)\n",
    "* [2. Usage](#bullet2)"
   ]
  },
  {
   "cell_type": "markdown",
   "id": "985c21ed",
   "metadata": {},
   "source": [
    "# Features <a class=\"anchor\" id=\"bullet1\"></a>"
   ]
  },
  {
   "cell_type": "markdown",
   "id": "90aa75b6",
   "metadata": {},
   "source": [
    "> *Pomotroid, The Pomodoro technique is a time management method that uses a timer to break down work into intervals, traditionally 25 minutes in length, separated by short breaks.*"
   ]
  },
  {
   "cell_type": "markdown",
   "id": "67637d71",
   "metadata": {},
   "source": [
    "### Features"
   ]
  },
  {
   "cell_type": "markdown",
   "id": "11abc894",
   "metadata": {},
   "source": [
    "+ **Simple Interface**\n",
    "    - The timer has a minimalistic interface, making it easy to use and navigate.\n",
    "+ **Customizable Timer**\n",
    "    - Users can adjust the duration of work intervals (Pomodoro sessions) and breaks according to their preferences. \n",
    "+ **Audible Alerts**\n",
    "     - The timer emits audible alerts to signal the start and end of each interval, helping users stay focused and on track.\n",
    "+ **Progress Tracking**\n",
    "     - Users can track their progress through the number of completed Pomodoro sessions, providing a sense of accomplishment and motivation."
   ]
  },
  {
   "cell_type": "markdown",
   "id": "0aa40eea",
   "metadata": {},
   "source": [
    "### Usage <a class=\"anchor\" id=\"bullet2\"></a>"
   ]
  },
  {
   "cell_type": "markdown",
   "id": "1fb9ff2e",
   "metadata": {},
   "source": [
    "+ **Set Work Duration:**\n",
    "    - Choose the duration for the work interval (e.g., 25 minutes).\n",
    "+ **Start Timer**\n",
    "    - Click on the \"Start\" button to begin the timer. \n",
    "+ **Work Interval**\n",
    "     - Focus on your work tasks until the timer indicates the end of the work interval.\n",
    "+ **Take Break**\n",
    "     - Once the work interval ends, take a short break (e.g., 5 minutes).\n",
    "+ **Repeat**\n",
    "     - Continue with the next Pomodoro session, or take a longer break after completing a set number of sessions."
   ]
  }
 ],
 "metadata": {
  "kernelspec": {
   "display_name": "Python 3 (ipykernel)",
   "language": "python",
   "name": "python3"
  },
  "language_info": {
   "codemirror_mode": {
    "name": "ipython",
    "version": 3
   },
   "file_extension": ".py",
   "mimetype": "text/x-python",
   "name": "python",
   "nbconvert_exporter": "python",
   "pygments_lexer": "ipython3",
   "version": "3.11.5"
  }
 },
 "nbformat": 4,
 "nbformat_minor": 5
}
